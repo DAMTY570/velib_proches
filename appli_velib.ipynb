{
 "cells": [
  {
   "cell_type": "code",
   "execution_count": 2,
   "id": "4e11d796",
   "metadata": {
    "scrolled": true
   },
   "outputs": [
    {
     "name": "stdout",
     "output_type": "stream",
     "text": [
      "Velib Data:\n",
      "{'total_count': 1471, 'results': [{'stationcode': '12109', 'name': 'Mairie du 12ème', 'is_installed': 'OUI', 'capacity': 30, 'numdocksavailable': 1, 'numbikesavailable': 27, 'mechanical': 26, 'ebike': 1, 'is_renting': 'OUI', 'is_returning': 'OUI', 'duedate': '2023-11-19T23:19:49+00:00', 'coordonnees_geo': {'lon': 2.3875549435616, 'lat': 48.840855311763}, 'nom_arrondissement_communes': 'Paris', 'code_insee_commune': None}, {'stationcode': '14014', 'name': 'Jourdan - Stade Charléty', 'is_installed': 'OUI', 'capacity': 60, 'numdocksavailable': 42, 'numbikesavailable': 17, 'mechanical': 11, 'ebike': 6, 'is_renting': 'OUI', 'is_returning': 'OUI', 'duedate': '2023-11-19T23:16:23+00:00', 'coordonnees_geo': {'lon': 2.3433353751898, 'lat': 48.819428333369}, 'nom_arrondissement_communes': 'Paris', 'code_insee_commune': None}, {'stationcode': '13007', 'name': 'Le Brun - Gobelins', 'is_installed': 'OUI', 'capacity': 48, 'numdocksavailable': 30, 'numbikesavailable': 16, 'mechanical': 13, 'ebike': 3, 'is_renting': 'OUI', 'is_returning': 'OUI', 'duedate': '2023-11-19T23:17:49+00:00', 'coordonnees_geo': {'lon': 2.3534681351338, 'lat': 48.835092787824}, 'nom_arrondissement_communes': 'Paris', 'code_insee_commune': None}, {'stationcode': '7002', 'name': 'Vaneau - Sèvres', 'is_installed': 'OUI', 'capacity': 35, 'numdocksavailable': 14, 'numbikesavailable': 20, 'mechanical': 13, 'ebike': 7, 'is_renting': 'OUI', 'is_returning': 'OUI', 'duedate': '2023-11-19T23:19:42+00:00', 'coordonnees_geo': {'lon': 2.3204218259346, 'lat': 48.848563233059}, 'nom_arrondissement_communes': 'Paris', 'code_insee_commune': None}, {'stationcode': '33006', 'name': 'André Karman - République', 'is_installed': 'OUI', 'capacity': 31, 'numdocksavailable': 4, 'numbikesavailable': 27, 'mechanical': 18, 'ebike': 9, 'is_renting': 'OUI', 'is_returning': 'OUI', 'duedate': '2023-11-19T23:17:45+00:00', 'coordonnees_geo': {'lon': 2.3851355910301213, 'lat': 48.91039875761846}, 'nom_arrondissement_communes': 'Aubervilliers', 'code_insee_commune': None}, {'stationcode': '6021', 'name': 'Beaux-Arts - Bonaparte', 'is_installed': 'OUI', 'capacity': 20, 'numdocksavailable': 15, 'numbikesavailable': 4, 'mechanical': 4, 'ebike': 0, 'is_renting': 'OUI', 'is_returning': 'OUI', 'duedate': '2023-11-19T23:16:47+00:00', 'coordonnees_geo': {'lon': 2.334851883351803, 'lat': 48.856451985395786}, 'nom_arrondissement_communes': 'Paris', 'code_insee_commune': None}, {'stationcode': '25006', 'name': 'Place Nelson Mandela', 'is_installed': 'OUI', 'capacity': 22, 'numdocksavailable': 21, 'numbikesavailable': 1, 'mechanical': 0, 'ebike': 1, 'is_renting': 'OUI', 'is_returning': 'OUI', 'duedate': '2023-11-19T23:18:20+00:00', 'coordonnees_geo': {'lon': 2.1961666225454, 'lat': 48.862453313908}, 'nom_arrondissement_communes': 'Rueil-Malmaison', 'code_insee_commune': None}, {'stationcode': '7003', 'name': 'Square Boucicaut', 'is_installed': 'OUI', 'capacity': 60, 'numdocksavailable': 57, 'numbikesavailable': 2, 'mechanical': 1, 'ebike': 1, 'is_renting': 'OUI', 'is_returning': 'OUI', 'duedate': '2023-11-19T23:16:07+00:00', 'coordonnees_geo': {'lon': 2.325061820447445, 'lat': 48.851296433665276}, 'nom_arrondissement_communes': 'Paris', 'code_insee_commune': None}, {'stationcode': '17041', 'name': 'Guersant - Gouvion-Saint-Cyr', 'is_installed': 'OUI', 'capacity': 36, 'numdocksavailable': 27, 'numbikesavailable': 8, 'mechanical': 5, 'ebike': 3, 'is_renting': 'OUI', 'is_returning': 'OUI', 'duedate': '2023-11-19T23:15:58+00:00', 'coordonnees_geo': {'lon': 2.287667370814871, 'lat': 48.88287775178599}, 'nom_arrondissement_communes': 'Paris', 'code_insee_commune': None}, {'stationcode': '5016', 'name': 'Thouin - Cardinal Lemoine', 'is_installed': 'OUI', 'capacity': 17, 'numdocksavailable': 12, 'numbikesavailable': 3, 'mechanical': 1, 'ebike': 2, 'is_renting': 'OUI', 'is_returning': 'OUI', 'duedate': '2023-11-19T23:19:05+00:00', 'coordonnees_geo': {'lon': 2.3494647851273465, 'lat': 48.84504716661511}, 'nom_arrondissement_communes': 'Paris', 'code_insee_commune': None}, {'stationcode': '11025', 'name': 'Froment - Bréguet', 'is_installed': 'OUI', 'capacity': 43, 'numdocksavailable': 11, 'numbikesavailable': 23, 'mechanical': 18, 'ebike': 5, 'is_renting': 'OUI', 'is_returning': 'OUI', 'duedate': '2023-11-19T23:18:50+00:00', 'coordonnees_geo': {'lon': 2.37289470306807, 'lat': 48.8570414504784}, 'nom_arrondissement_communes': 'Paris', 'code_insee_commune': None}, {'stationcode': '14108', 'name': 'Le Brix et Mesmin - Jourdan', 'is_installed': 'OUI', 'capacity': 21, 'numdocksavailable': 21, 'numbikesavailable': 0, 'mechanical': 0, 'ebike': 0, 'is_renting': 'OUI', 'is_returning': 'OUI', 'duedate': '2023-11-19T23:11:57+00:00', 'coordonnees_geo': {'lon': 2.327861653302471, 'lat': 48.82234096593411}, 'nom_arrondissement_communes': 'Paris', 'code_insee_commune': None}, {'stationcode': '31024', 'name': 'Romainville - Vaillant-Couturier', 'is_installed': 'OUI', 'capacity': 38, 'numdocksavailable': 28, 'numbikesavailable': 8, 'mechanical': 1, 'ebike': 7, 'is_renting': 'OUI', 'is_returning': 'OUI', 'duedate': '2023-11-19T23:19:43+00:00', 'coordonnees_geo': {'lon': 2.446748, 'lat': 48.86785}, 'nom_arrondissement_communes': 'Montreuil', 'code_insee_commune': None}, {'stationcode': '47007', 'name': 'Liberté - Vert-de-Maisons', 'is_installed': 'OUI', 'capacity': 20, 'numdocksavailable': 20, 'numbikesavailable': 0, 'mechanical': 0, 'ebike': 0, 'is_renting': 'NON', 'is_returning': 'NON', 'duedate': '2023-09-16T03:55:03+00:00', 'coordonnees_geo': {'lon': 2.4328628182411, 'lat': 48.790147809608}, 'nom_arrondissement_communes': 'Maisons-Alfort', 'code_insee_commune': None}, {'stationcode': '21326', 'name': 'Moulin de Pierre - Abbé Grégoire', 'is_installed': 'OUI', 'capacity': 20, 'numdocksavailable': 15, 'numbikesavailable': 4, 'mechanical': 0, 'ebike': 4, 'is_renting': 'OUI', 'is_returning': 'OUI', 'duedate': '2023-11-19T23:19:25+00:00', 'coordonnees_geo': {'lon': 2.2754641655975, 'lat': 48.822036188382}, 'nom_arrondissement_communes': 'Issy-les-Moulineaux', 'code_insee_commune': None}, {'stationcode': '20143', 'name': 'Ramponeau - Belleville', 'is_installed': 'OUI', 'capacity': 44, 'numdocksavailable': 27, 'numbikesavailable': 16, 'mechanical': 4, 'ebike': 12, 'is_renting': 'OUI', 'is_returning': 'OUI', 'duedate': '2023-11-19T23:14:33+00:00', 'coordonnees_geo': {'lon': 2.379056852114, 'lat': 48.871031137596}, 'nom_arrondissement_communes': 'Paris', 'code_insee_commune': None}, {'stationcode': '43002', 'name': 'Lagny - Victor Basch', 'is_installed': 'OUI', 'capacity': 26, 'numdocksavailable': 15, 'numbikesavailable': 11, 'mechanical': 7, 'ebike': 4, 'is_renting': 'OUI', 'is_returning': 'OUI', 'duedate': '2023-11-19T23:19:42+00:00', 'coordonnees_geo': {'lon': 2.426325418925233, 'lat': 48.84884147189881}, 'nom_arrondissement_communes': 'Vincennes', 'code_insee_commune': None}, {'stationcode': '21216', 'name': 'Louis Lejeune - Barbès', 'is_installed': 'OUI', 'capacity': 25, 'numdocksavailable': 21, 'numbikesavailable': 3, 'mechanical': 1, 'ebike': 2, 'is_renting': 'OUI', 'is_returning': 'OUI', 'duedate': '2023-11-19T23:17:00+00:00', 'coordonnees_geo': {'lon': 2.3267009854316716, 'lat': 48.81807418981508}, 'nom_arrondissement_communes': 'Montrouge', 'code_insee_commune': None}, {'stationcode': '15068', 'name': 'Général Martial Valin - Pont du Garigliano', 'is_installed': 'OUI', 'capacity': 16, 'numdocksavailable': 15, 'numbikesavailable': 1, 'mechanical': 0, 'ebike': 1, 'is_renting': 'OUI', 'is_returning': 'OUI', 'duedate': '2023-11-19T23:18:56+00:00', 'coordonnees_geo': {'lon': 2.270506024360657, 'lat': 48.83823094269141}, 'nom_arrondissement_communes': 'Paris', 'code_insee_commune': None}, {'stationcode': '22207', 'name': 'Rond-point du Dr Albert Schweitzer', 'is_installed': 'OUI', 'capacity': 22, 'numdocksavailable': 14, 'numbikesavailable': 7, 'mechanical': 0, 'ebike': 7, 'is_renting': 'OUI', 'is_returning': 'OUI', 'duedate': '2023-11-19T23:19:33+00:00', 'coordonnees_geo': {'lon': 2.3143940046429634, 'lat': 48.78980918988166}, 'nom_arrondissement_communes': 'Bagneux', 'code_insee_commune': None}]}\n"
     ]
    }
   ],
   "source": [
    "import requests\n",
    "\n",
    "def get_velib_data():\n",
    "    api_url = 'https://opendata.paris.fr/api/explore/v2.1/catalog/datasets/velib-disponibilite-en-temps-reel/records?limit=20'\n",
    "\n",
    "    try:\n",
    "        response = requests.get(api_url)\n",
    "\n",
    "        if response.status_code == 200:\n",
    "            data = response.json()\n",
    "            return data\n",
    "        else:\n",
    "            return {'error': f'Failed to fetch data. Status code: {response.status_code}'}\n",
    "\n",
    "    except Exception as e:\n",
    "        return {'error': f'An error occurred: {str(e)}'}\n",
    "\n",
    "if __name__ == '__main__':\n",
    "    velib_data = get_velib_data()\n",
    "    \n",
    "    if 'error' in velib_data:\n",
    "        print(f\"Error: {velib_data['error']}\")\n",
    "    else:\n",
    "        print(\"Velib Data:\")\n",
    "        print(velib_data)\n"
   ]
  },
  {
   "cell_type": "code",
   "execution_count": 3,
   "id": "186ddfc8",
   "metadata": {
    "scrolled": true
   },
   "outputs": [
    {
     "name": "stdout",
     "output_type": "stream",
     "text": [
      "{'stationcode': '12109', 'name': 'Mairie du 12ème', 'capacity': 30, 'numdocksavailable': 1, 'numbikesavailable': 27, 'mechanical': 26, 'ebike': 1, 'is_renting': 'OUI', 'is_returning': 'OUI', 'duedate': '2023-11-19T23:19:49+00:00', 'lon': 2.3875549435616, 'lat': 48.840855311763}\n",
      "{'stationcode': '14014', 'name': 'Jourdan - Stade Charléty', 'capacity': 60, 'numdocksavailable': 42, 'numbikesavailable': 17, 'mechanical': 11, 'ebike': 6, 'is_renting': 'OUI', 'is_returning': 'OUI', 'duedate': '2023-11-19T23:16:23+00:00', 'lon': 2.3433353751898, 'lat': 48.819428333369}\n",
      "{'stationcode': '13007', 'name': 'Le Brun - Gobelins', 'capacity': 48, 'numdocksavailable': 30, 'numbikesavailable': 16, 'mechanical': 13, 'ebike': 3, 'is_renting': 'OUI', 'is_returning': 'OUI', 'duedate': '2023-11-19T23:17:49+00:00', 'lon': 2.3534681351338, 'lat': 48.835092787824}\n",
      "{'stationcode': '7002', 'name': 'Vaneau - Sèvres', 'capacity': 35, 'numdocksavailable': 14, 'numbikesavailable': 20, 'mechanical': 13, 'ebike': 7, 'is_renting': 'OUI', 'is_returning': 'OUI', 'duedate': '2023-11-19T23:19:42+00:00', 'lon': 2.3204218259346, 'lat': 48.848563233059}\n",
      "{'stationcode': '33006', 'name': 'André Karman - République', 'capacity': 31, 'numdocksavailable': 4, 'numbikesavailable': 27, 'mechanical': 18, 'ebike': 9, 'is_renting': 'OUI', 'is_returning': 'OUI', 'duedate': '2023-11-19T23:17:45+00:00', 'lon': 2.3851355910301213, 'lat': 48.91039875761846}\n",
      "{'stationcode': '6021', 'name': 'Beaux-Arts - Bonaparte', 'capacity': 20, 'numdocksavailable': 15, 'numbikesavailable': 4, 'mechanical': 4, 'ebike': 0, 'is_renting': 'OUI', 'is_returning': 'OUI', 'duedate': '2023-11-19T23:16:47+00:00', 'lon': 2.334851883351803, 'lat': 48.856451985395786}\n",
      "{'stationcode': '25006', 'name': 'Place Nelson Mandela', 'capacity': 22, 'numdocksavailable': 21, 'numbikesavailable': 1, 'mechanical': 0, 'ebike': 1, 'is_renting': 'OUI', 'is_returning': 'OUI', 'duedate': '2023-11-19T23:18:20+00:00', 'lon': 2.1961666225454, 'lat': 48.862453313908}\n",
      "{'stationcode': '7003', 'name': 'Square Boucicaut', 'capacity': 60, 'numdocksavailable': 57, 'numbikesavailable': 2, 'mechanical': 1, 'ebike': 1, 'is_renting': 'OUI', 'is_returning': 'OUI', 'duedate': '2023-11-19T23:16:07+00:00', 'lon': 2.325061820447445, 'lat': 48.851296433665276}\n",
      "{'stationcode': '17041', 'name': 'Guersant - Gouvion-Saint-Cyr', 'capacity': 36, 'numdocksavailable': 27, 'numbikesavailable': 8, 'mechanical': 5, 'ebike': 3, 'is_renting': 'OUI', 'is_returning': 'OUI', 'duedate': '2023-11-19T23:15:58+00:00', 'lon': 2.287667370814871, 'lat': 48.88287775178599}\n",
      "{'stationcode': '5016', 'name': 'Thouin - Cardinal Lemoine', 'capacity': 17, 'numdocksavailable': 12, 'numbikesavailable': 3, 'mechanical': 1, 'ebike': 2, 'is_renting': 'OUI', 'is_returning': 'OUI', 'duedate': '2023-11-19T23:19:05+00:00', 'lon': 2.3494647851273465, 'lat': 48.84504716661511}\n",
      "{'stationcode': '11025', 'name': 'Froment - Bréguet', 'capacity': 43, 'numdocksavailable': 11, 'numbikesavailable': 23, 'mechanical': 18, 'ebike': 5, 'is_renting': 'OUI', 'is_returning': 'OUI', 'duedate': '2023-11-19T23:18:50+00:00', 'lon': 2.37289470306807, 'lat': 48.8570414504784}\n",
      "{'stationcode': '14108', 'name': 'Le Brix et Mesmin - Jourdan', 'capacity': 21, 'numdocksavailable': 21, 'numbikesavailable': 0, 'mechanical': 0, 'ebike': 0, 'is_renting': 'OUI', 'is_returning': 'OUI', 'duedate': '2023-11-19T23:11:57+00:00', 'lon': 2.327861653302471, 'lat': 48.82234096593411}\n",
      "{'stationcode': '31024', 'name': 'Romainville - Vaillant-Couturier', 'capacity': 38, 'numdocksavailable': 28, 'numbikesavailable': 8, 'mechanical': 1, 'ebike': 7, 'is_renting': 'OUI', 'is_returning': 'OUI', 'duedate': '2023-11-19T23:19:43+00:00', 'lon': 2.446748, 'lat': 48.86785}\n",
      "{'stationcode': '47007', 'name': 'Liberté - Vert-de-Maisons', 'capacity': 20, 'numdocksavailable': 20, 'numbikesavailable': 0, 'mechanical': 0, 'ebike': 0, 'is_renting': 'NON', 'is_returning': 'NON', 'duedate': '2023-09-16T03:55:03+00:00', 'lon': 2.4328628182411, 'lat': 48.790147809608}\n",
      "{'stationcode': '21326', 'name': 'Moulin de Pierre - Abbé Grégoire', 'capacity': 20, 'numdocksavailable': 15, 'numbikesavailable': 4, 'mechanical': 0, 'ebike': 4, 'is_renting': 'OUI', 'is_returning': 'OUI', 'duedate': '2023-11-19T23:19:25+00:00', 'lon': 2.2754641655975, 'lat': 48.822036188382}\n",
      "{'stationcode': '20143', 'name': 'Ramponeau - Belleville', 'capacity': 44, 'numdocksavailable': 27, 'numbikesavailable': 16, 'mechanical': 4, 'ebike': 12, 'is_renting': 'OUI', 'is_returning': 'OUI', 'duedate': '2023-11-19T23:14:33+00:00', 'lon': 2.379056852114, 'lat': 48.871031137596}\n",
      "{'stationcode': '43002', 'name': 'Lagny - Victor Basch', 'capacity': 26, 'numdocksavailable': 15, 'numbikesavailable': 11, 'mechanical': 7, 'ebike': 4, 'is_renting': 'OUI', 'is_returning': 'OUI', 'duedate': '2023-11-19T23:19:42+00:00', 'lon': 2.426325418925233, 'lat': 48.84884147189881}\n",
      "{'stationcode': '21216', 'name': 'Louis Lejeune - Barbès', 'capacity': 25, 'numdocksavailable': 21, 'numbikesavailable': 3, 'mechanical': 1, 'ebike': 2, 'is_renting': 'OUI', 'is_returning': 'OUI', 'duedate': '2023-11-19T23:17:00+00:00', 'lon': 2.3267009854316716, 'lat': 48.81807418981508}\n",
      "{'stationcode': '15068', 'name': 'Général Martial Valin - Pont du Garigliano', 'capacity': 16, 'numdocksavailable': 15, 'numbikesavailable': 1, 'mechanical': 0, 'ebike': 1, 'is_renting': 'OUI', 'is_returning': 'OUI', 'duedate': '2023-11-19T23:18:56+00:00', 'lon': 2.270506024360657, 'lat': 48.83823094269141}\n",
      "{'stationcode': '22207', 'name': 'Rond-point du Dr Albert Schweitzer', 'capacity': 22, 'numdocksavailable': 14, 'numbikesavailable': 7, 'mechanical': 0, 'ebike': 7, 'is_renting': 'OUI', 'is_returning': 'OUI', 'duedate': '2023-11-19T23:19:33+00:00', 'lon': 2.3143940046429634, 'lat': 48.78980918988166}\n"
     ]
    }
   ],
   "source": [
    "import requests\n",
    "\n",
    "# Fonction pour obtenir les données Velib\n",
    "def get_velib_data():\n",
    "    api_url = 'https://opendata.paris.fr/api/explore/v2.1/catalog/datasets/velib-disponibilite-en-temps-reel/records?limit=20'\n",
    "\n",
    "    try:\n",
    "        response = requests.get(api_url)\n",
    "\n",
    "        if response.status_code == 200:\n",
    "            data = response.json()\n",
    "            return data\n",
    "        else:\n",
    "            return {'error': f'Failed to fetch data. Status code: {response.status_code}'}\n",
    "\n",
    "    except Exception as e:\n",
    "        return {'error': f'An error occurred: {str(e)}'}\n",
    "\n",
    "# Récupération des données Velib\n",
    "velib_data = get_velib_data()\n",
    "\n",
    "if 'error' in velib_data:\n",
    "    print(f\"Error: {velib_data['error']}\")\n",
    "else:\n",
    "    # Stockage des données Velib dans une liste de dictionnaires\n",
    "    velib_stations = []\n",
    "    for record in velib_data['results']:\n",
    "        station_data = {\n",
    "            'stationcode': record['stationcode'],\n",
    "            'name': record['name'],\n",
    "            'capacity': record['capacity'],\n",
    "            'numdocksavailable': record['numdocksavailable'],\n",
    "            'numbikesavailable': record['numbikesavailable'],\n",
    "            'mechanical': record['mechanical'],\n",
    "            'ebike': record['ebike'],\n",
    "            'is_renting': record['is_renting'],\n",
    "            'is_returning': record['is_returning'],\n",
    "            'duedate': record['duedate'],\n",
    "            'lon': record['coordonnees_geo']['lon'],\n",
    "            'lat': record['coordonnees_geo']['lat']\n",
    "        }\n",
    "        velib_stations.append(station_data)\n",
    "\n",
    "    # Affichage des données Velib\n",
    "    for station in velib_stations:\n",
    "        print(station)\n",
    "\n",
    "# Vous pouvez maintenant utiliser la liste velib_stations pour effectuer des opérations ou analyses supplémentaires.\n"
   ]
  },
  {
   "cell_type": "code",
   "execution_count": 5,
   "id": "169c6297",
   "metadata": {
    "scrolled": true
   },
   "outputs": [
    {
     "name": "stdout",
     "output_type": "stream",
     "text": [
      "Collecting geopy\n",
      "  Downloading geopy-2.4.0-py3-none-any.whl (125 kB)\n",
      "Collecting geographiclib<3,>=1.52\n",
      "  Downloading geographiclib-2.0-py3-none-any.whl (40 kB)\n",
      "Installing collected packages: geographiclib, geopy\n",
      "Successfully installed geographiclib-2.0 geopy-2.4.0\n",
      "Note: you may need to restart the kernel to use updated packages.\n"
     ]
    }
   ],
   "source": [
    "pip install geopy"
   ]
  },
  {
   "cell_type": "code",
   "execution_count": 1,
   "id": "bf414293",
   "metadata": {},
   "outputs": [
    {
     "name": "stdout",
     "output_type": "stream",
     "text": [
      " * Serving Flask app \"__main__\" (lazy loading)\n",
      " * Environment: production\n",
      "\u001b[31m   WARNING: This is a development server. Do not use it in a production deployment.\u001b[0m\n",
      "\u001b[2m   Use a production WSGI server instead.\u001b[0m\n",
      " * Debug mode: on\n"
     ]
    },
    {
     "name": "stderr",
     "output_type": "stream",
     "text": [
      " * Running on http://127.0.0.1:5000/ (Press CTRL+C to quit)\n",
      "127.0.0.1 - - [20/Nov/2023 01:04:19] \"GET / HTTP/1.1\" 200 -\n"
     ]
    }
   ],
   "source": [
    "from flask import Flask, request, jsonify, render_template\n",
    "import requests\n",
    "from geopy.geocoders import Nominatim\n",
    "from geopy.exc import GeocoderTimedOut\n",
    "from geopy.distance import geodesic\n",
    "\n",
    "app = Flask(__name__)\n",
    "\n",
    "def get_velib_data():\n",
    "    api_url = 'https://opendata.paris.fr/api/explore/v2.1/catalog/datasets/velib-disponibilite-en-temps-reel/records?limit=1000'\n",
    "    \n",
    "    try:\n",
    "        response = requests.get(api_url)\n",
    "        \n",
    "        if response.status_code == 200:\n",
    "            data = response.json()\n",
    "            return data\n",
    "        else:\n",
    "            return None\n",
    "    \n",
    "    except Exception as e:\n",
    "        print(f\"An error occurred: {str(e)}\")\n",
    "        return None\n",
    "\n",
    "def get_closest_velib_stations(user_location, num_stations=5):\n",
    "    velib_data = get_velib_data()\n",
    "    \n",
    "    if velib_data is None:\n",
    "        return {'error': 'Failed to fetch Velib data'}\n",
    "    \n",
    "    user_lat = user_location['lat']\n",
    "    user_lon = user_location['lon']\n",
    "    \n",
    "    stations = velib_data['records']\n",
    "    \n",
    "    # Calculate distances to all stations and store them in a list\n",
    "    distances = []\n",
    "    for station in stations:\n",
    "        station_lat = station['coordonnees_geo']['lat']\n",
    "        station_lon = station['coordonnees_geo']['lon']\n",
    "        station_location = (station_lat, station_lon)\n",
    "        distance = geodesic(user_location, station_location).meters\n",
    "        distances.append((station, distance))\n",
    "    \n",
    "    # Sort stations by distance and select the top num_stations\n",
    "    sorted_stations = sorted(distances, key=lambda x: x[1])\n",
    "    closest_stations = sorted_stations[:num_stations]\n",
    "    \n",
    "    result = []\n",
    "    for station, distance in closest_stations:\n",
    "        station_info = {\n",
    "            'name': station['name'],\n",
    "            'distance_meters': distance,\n",
    "            'num_bikes_available': int(station['numbikesavailable']),\n",
    "            'capacity': int(station['capacity'])\n",
    "        }\n",
    "        result.append(station_info)\n",
    "    \n",
    "    return result\n",
    "\n",
    "@app.route('/')\n",
    "def index():\n",
    "    return render_template('index.html')\n",
    "\n",
    "@app.route('/closest_velib_stations', methods=['POST'])\n",
    "def closest_velib_stations():\n",
    "    try:\n",
    "        user_location = request.form.get('location')\n",
    "        if user_location:\n",
    "            geolocator = Nominatim(user_agent=\"geoapiExercises\")\n",
    "            location = geolocator.geocode(user_location)\n",
    "            if location:\n",
    "                user_coordinates = {'lat': location.latitude, 'lon': location.longitude}\n",
    "                closest_stations = get_closest_velib_stations(user_coordinates)\n",
    "                return jsonify({'closest_stations': closest_stations})\n",
    "            else:\n",
    "                return jsonify({'error': 'Location not found'}), 400\n",
    "        else:\n",
    "            return jsonify({'error': 'Invalid user location data'}), 400\n",
    "    except GeocoderTimedOut:\n",
    "        return jsonify({'error': 'Geocoding service timed out'}), 500\n",
    "\n",
    "if __name__ == '__main__':\n",
    "    app.run(debug=True, use_reloader=False)\n"
   ]
  },
  {
   "cell_type": "code",
   "execution_count": null,
   "id": "6a47a3a8",
   "metadata": {},
   "outputs": [],
   "source": []
  }
 ],
 "metadata": {
  "kernelspec": {
   "display_name": "Python 3 (ipykernel)",
   "language": "python",
   "name": "python3"
  },
  "language_info": {
   "codemirror_mode": {
    "name": "ipython",
    "version": 3
   },
   "file_extension": ".py",
   "mimetype": "text/x-python",
   "name": "python",
   "nbconvert_exporter": "python",
   "pygments_lexer": "ipython3",
   "version": "3.9.7"
  }
 },
 "nbformat": 4,
 "nbformat_minor": 5
}
