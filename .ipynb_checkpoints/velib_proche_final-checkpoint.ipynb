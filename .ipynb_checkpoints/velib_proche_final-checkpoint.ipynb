{
 "cells": [
  {
   "cell_type": "code",
   "execution_count": 2,
   "id": "d7e5fcde",
   "metadata": {
    "scrolled": true
   },
   "outputs": [
    {
     "name": "stdout",
     "output_type": "stream",
     "text": [
      " * Serving Flask app \"__main__\" (lazy loading)\n",
      " * Environment: production\n",
      "\u001b[31m   WARNING: This is a development server. Do not use it in a production deployment.\u001b[0m\n",
      "\u001b[2m   Use a production WSGI server instead.\u001b[0m\n",
      " * Debug mode: on\n"
     ]
    },
    {
     "name": "stderr",
     "output_type": "stream",
     "text": [
      " * Running on http://127.0.0.1:5000/ (Press CTRL+C to quit)\n",
      "127.0.0.1 - - [20/Nov/2023 02:14:50] \"GET / HTTP/1.1\" 200 -\n",
      "127.0.0.1 - - [20/Nov/2023 02:14:55] \"POST /closest_velib_stations HTTP/1.1\" 200 -\n"
     ]
    }
   ],
   "source": [
    "from flask import Flask, request, jsonify, render_template\n",
    "import requests\n",
    "from geopy.geocoders import Nominatim\n",
    "from geopy.exc import GeocoderTimedOut\n",
    "from geopy.distance import geodesic\n",
    "\n",
    "app = Flask(__name__, template_folder='C:/Users/kraha/OneDrive/Bureau/appFLASK/templates')\n",
    "\n",
    "def get_velib_data():\n",
    "    api_url = 'https://opendata.paris.fr/api/explore/v2.1/catalog/datasets/velib-disponibilite-en-temps-reel/records?limit=100'\n",
    "    \n",
    "    try:\n",
    "        response = requests.get(api_url)\n",
    "        \n",
    "        if response.status_code == 200:\n",
    "            data = response.json()\n",
    "            return data\n",
    "        else:\n",
    "            return None\n",
    "    \n",
    "    except Exception as e:\n",
    "        print(f\"An error occurred: {str(e)}\")\n",
    "        return None\n",
    "\n",
    "def get_closest_velib_stations(user_location, num_stations=5):\n",
    "    velib_data = get_velib_data()\n",
    "    \n",
    "    if velib_data is None:\n",
    "        return {'error': 'Failed to fetch Velib data'}\n",
    "    \n",
    "    user_lat = user_location['lat']\n",
    "    user_lon = user_location['lon']\n",
    "    \n",
    "    stations = velib_data['results']  # Modification ici\n",
    "    \n",
    "    # Calculate distances to all stations and store them in a list\n",
    "    distances = []\n",
    "    for station in stations:\n",
    "        station_lat = station['coordonnees_geo']['lat']\n",
    "        station_lon = station['coordonnees_geo']['lon']\n",
    "        station_location = (station_lat, station_lon)\n",
    "        distance = geodesic((user_lat, user_lon), station_location).meters\n",
    "        distances.append((station, distance))\n",
    "    \n",
    "    # Sort stations by distance and select the top num_stations\n",
    "    sorted_stations = sorted(distances, key=lambda x: x[1])\n",
    "    closest_stations = sorted_stations[:num_stations]\n",
    "    \n",
    "    result = []\n",
    "    for station, distance in closest_stations:\n",
    "        station_info = {\n",
    "            'name': station['name'],\n",
    "            'distance_meters': distance,\n",
    "            'num_bikes_available': station['numbikesavailable'],\n",
    "            'capacity': station['capacity']\n",
    "        }\n",
    "        result.append(station_info)\n",
    "    \n",
    "    return result\n",
    "\n",
    "\n",
    "@app.route('/')\n",
    "def index():\n",
    "    return render_template('index.html')\n",
    "\n",
    "@app.route('/closest_velib_stations', methods=['POST'])\n",
    "def closest_velib_stations():\n",
    "    try:\n",
    "        user_location = request.form.get('location')\n",
    "        if user_location:\n",
    "            geolocator = Nominatim(user_agent=\"geoapiExercises\")\n",
    "            location = geolocator.geocode(user_location)\n",
    "            if location:\n",
    "                user_coordinates = {'lat': location.latitude, 'lon': location.longitude}\n",
    "                closest_stations = get_closest_velib_stations(user_coordinates)\n",
    "                return jsonify({'closest_stations': closest_stations})\n",
    "            else:\n",
    "                return jsonify({'error': 'Location not found'}), 400\n",
    "        else:\n",
    "            return jsonify({'error': 'Invalid user location data'}), 400\n",
    "    except GeocoderTimedOut:\n",
    "        return jsonify({'error': 'Geocoding service timed out'}), 500\n",
    "\n",
    "if __name__ == '__main__':\n",
    "    app.run(debug=True, use_reloader=False)\n"
   ]
  },
  {
   "cell_type": "code",
   "execution_count": null,
   "id": "e6369258",
   "metadata": {},
   "outputs": [],
   "source": []
  }
 ],
 "metadata": {
  "kernelspec": {
   "display_name": "Python 3 (ipykernel)",
   "language": "python",
   "name": "python3"
  },
  "language_info": {
   "codemirror_mode": {
    "name": "ipython",
    "version": 3
   },
   "file_extension": ".py",
   "mimetype": "text/x-python",
   "name": "python",
   "nbconvert_exporter": "python",
   "pygments_lexer": "ipython3",
   "version": "3.9.7"
  }
 },
 "nbformat": 4,
 "nbformat_minor": 5
}
